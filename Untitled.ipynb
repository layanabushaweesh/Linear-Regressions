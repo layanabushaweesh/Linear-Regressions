{
 "cells": [
  {
   "cell_type": "markdown",
   "id": "2e72ee04-b1f2-4670-92ee-b760b3f2beeb",
   "metadata": {},
   "source": [
    "# Analysis with Linear Regressions"
   ]
  },
  {
   "cell_type": "code",
   "execution_count": 1,
   "id": "c083c2f3-502a-4f33-ba41-7e1167746df9",
   "metadata": {},
   "outputs": [],
   "source": [
    "#import libraries:\n",
    "import pandas as pd"
   ]
  },
  {
   "cell_type": "code",
   "execution_count": 2,
   "id": "5b1ecd28-61f3-4e77-97e8-f1f97727b294",
   "metadata": {},
   "outputs": [],
   "source": [
    "import matplotlib.pyplot as plt"
   ]
  },
  {
   "cell_type": "code",
   "execution_count": 3,
   "id": "fc8fb08d-5c51-44ab-aedf-3cdbfccabe4e",
   "metadata": {},
   "outputs": [],
   "source": [
    "from sklearn.model_selection import train_test_split"
   ]
  },
  {
   "cell_type": "code",
   "execution_count": 4,
   "id": "73af8ec1-c744-400f-9091-0130d370a826",
   "metadata": {},
   "outputs": [],
   "source": [
    "from sklearn.linear_model import LinearRegression"
   ]
  },
  {
   "cell_type": "code",
   "execution_count": 5,
   "id": "16ae31db-9371-4980-9fa0-698a4453a8a0",
   "metadata": {},
   "outputs": [],
   "source": [
    "%matplotlib inline\n",
    "import seaborn as sns\n",
    "\n"
   ]
  },
  {
   "cell_type": "code",
   "execution_count": 6,
   "id": "37154757-a939-4a58-b6e3-61e0627859d0",
   "metadata": {},
   "outputs": [
    {
     "data": {
      "text/html": [
       "<div>\n",
       "<style scoped>\n",
       "    .dataframe tbody tr th:only-of-type {\n",
       "        vertical-align: middle;\n",
       "    }\n",
       "\n",
       "    .dataframe tbody tr th {\n",
       "        vertical-align: top;\n",
       "    }\n",
       "\n",
       "    .dataframe thead th {\n",
       "        text-align: right;\n",
       "    }\n",
       "</style>\n",
       "<table border=\"1\" class=\"dataframe\">\n",
       "  <thead>\n",
       "    <tr style=\"text-align: right;\">\n",
       "      <th></th>\n",
       "      <th>x</th>\n",
       "      <th>y</th>\n",
       "    </tr>\n",
       "  </thead>\n",
       "  <tbody>\n",
       "    <tr>\n",
       "      <th>0</th>\n",
       "      <td>77</td>\n",
       "      <td>79.775152</td>\n",
       "    </tr>\n",
       "    <tr>\n",
       "      <th>1</th>\n",
       "      <td>21</td>\n",
       "      <td>23.177279</td>\n",
       "    </tr>\n",
       "    <tr>\n",
       "      <th>2</th>\n",
       "      <td>22</td>\n",
       "      <td>25.609262</td>\n",
       "    </tr>\n",
       "    <tr>\n",
       "      <th>3</th>\n",
       "      <td>20</td>\n",
       "      <td>17.857388</td>\n",
       "    </tr>\n",
       "    <tr>\n",
       "      <th>4</th>\n",
       "      <td>36</td>\n",
       "      <td>41.849864</td>\n",
       "    </tr>\n",
       "    <tr>\n",
       "      <th>...</th>\n",
       "      <td>...</td>\n",
       "      <td>...</td>\n",
       "    </tr>\n",
       "    <tr>\n",
       "      <th>295</th>\n",
       "      <td>71</td>\n",
       "      <td>68.545888</td>\n",
       "    </tr>\n",
       "    <tr>\n",
       "      <th>296</th>\n",
       "      <td>46</td>\n",
       "      <td>47.334876</td>\n",
       "    </tr>\n",
       "    <tr>\n",
       "      <th>297</th>\n",
       "      <td>55</td>\n",
       "      <td>54.090637</td>\n",
       "    </tr>\n",
       "    <tr>\n",
       "      <th>298</th>\n",
       "      <td>62</td>\n",
       "      <td>63.297171</td>\n",
       "    </tr>\n",
       "    <tr>\n",
       "      <th>299</th>\n",
       "      <td>47</td>\n",
       "      <td>52.459467</td>\n",
       "    </tr>\n",
       "  </tbody>\n",
       "</table>\n",
       "<p>300 rows × 2 columns</p>\n",
       "</div>"
      ],
      "text/plain": [
       "      x          y\n",
       "0    77  79.775152\n",
       "1    21  23.177279\n",
       "2    22  25.609262\n",
       "3    20  17.857388\n",
       "4    36  41.849864\n",
       "..   ..        ...\n",
       "295  71  68.545888\n",
       "296  46  47.334876\n",
       "297  55  54.090637\n",
       "298  62  63.297171\n",
       "299  47  52.459467\n",
       "\n",
       "[300 rows x 2 columns]"
      ]
     },
     "execution_count": 6,
     "metadata": {},
     "output_type": "execute_result"
    }
   ],
   "source": [
    "#read cvs file\n",
    "df=pd.read_csv('./test.csv')\n",
    "#all data\n",
    "df"
   ]
  },
  {
   "cell_type": "code",
   "execution_count": null,
   "id": "16c933d2-6155-4250-8add-23164be5dad5",
   "metadata": {},
   "outputs": [],
   "source": [
    "\n"
   ]
  },
  {
   "cell_type": "code",
   "execution_count": 7,
   "id": "e8239d74-ce11-4410-b54a-b030b7b79ce1",
   "metadata": {},
   "outputs": [
    {
     "data": {
      "text/html": [
       "<div>\n",
       "<style scoped>\n",
       "    .dataframe tbody tr th:only-of-type {\n",
       "        vertical-align: middle;\n",
       "    }\n",
       "\n",
       "    .dataframe tbody tr th {\n",
       "        vertical-align: top;\n",
       "    }\n",
       "\n",
       "    .dataframe thead th {\n",
       "        text-align: right;\n",
       "    }\n",
       "</style>\n",
       "<table border=\"1\" class=\"dataframe\">\n",
       "  <thead>\n",
       "    <tr style=\"text-align: right;\">\n",
       "      <th></th>\n",
       "      <th>x</th>\n",
       "      <th>y</th>\n",
       "    </tr>\n",
       "  </thead>\n",
       "  <tbody>\n",
       "    <tr>\n",
       "      <th>0</th>\n",
       "      <td>77</td>\n",
       "      <td>79.775152</td>\n",
       "    </tr>\n",
       "    <tr>\n",
       "      <th>1</th>\n",
       "      <td>21</td>\n",
       "      <td>23.177279</td>\n",
       "    </tr>\n",
       "    <tr>\n",
       "      <th>2</th>\n",
       "      <td>22</td>\n",
       "      <td>25.609262</td>\n",
       "    </tr>\n",
       "    <tr>\n",
       "      <th>3</th>\n",
       "      <td>20</td>\n",
       "      <td>17.857388</td>\n",
       "    </tr>\n",
       "    <tr>\n",
       "      <th>4</th>\n",
       "      <td>36</td>\n",
       "      <td>41.849864</td>\n",
       "    </tr>\n",
       "  </tbody>\n",
       "</table>\n",
       "</div>"
      ],
      "text/plain": [
       "    x          y\n",
       "0  77  79.775152\n",
       "1  21  23.177279\n",
       "2  22  25.609262\n",
       "3  20  17.857388\n",
       "4  36  41.849864"
      ]
     },
     "execution_count": 7,
     "metadata": {},
     "output_type": "execute_result"
    }
   ],
   "source": [
    "#Show the first five rows of the data set.\n",
    "df.head(5)"
   ]
  },
  {
   "cell_type": "code",
   "execution_count": 8,
   "id": "3ef66ac7-e373-4bb4-ade0-22db30b889eb",
   "metadata": {},
   "outputs": [],
   "source": [
    "#Show the description and the info of the data set.\n"
   ]
  },
  {
   "cell_type": "code",
   "execution_count": 9,
   "id": "4c17d20e-cdcb-4251-a933-da29cf1b9dba",
   "metadata": {},
   "outputs": [
    {
     "name": "stdout",
     "output_type": "stream",
     "text": [
      "<class 'pandas.core.frame.DataFrame'>\n",
      "RangeIndex: 300 entries, 0 to 299\n",
      "Data columns (total 2 columns):\n",
      " #   Column  Non-Null Count  Dtype  \n",
      "---  ------  --------------  -----  \n",
      " 0   x       300 non-null    int64  \n",
      " 1   y       300 non-null    float64\n",
      "dtypes: float64(1), int64(1)\n",
      "memory usage: 4.8 KB\n"
     ]
    }
   ],
   "source": [
    "df.info()"
   ]
  },
  {
   "cell_type": "code",
   "execution_count": 10,
   "id": "577637ac-c412-4b78-b478-c8fe2a869d5c",
   "metadata": {},
   "outputs": [
    {
     "data": {
      "text/html": [
       "<div>\n",
       "<style scoped>\n",
       "    .dataframe tbody tr th:only-of-type {\n",
       "        vertical-align: middle;\n",
       "    }\n",
       "\n",
       "    .dataframe tbody tr th {\n",
       "        vertical-align: top;\n",
       "    }\n",
       "\n",
       "    .dataframe thead th {\n",
       "        text-align: right;\n",
       "    }\n",
       "</style>\n",
       "<table border=\"1\" class=\"dataframe\">\n",
       "  <thead>\n",
       "    <tr style=\"text-align: right;\">\n",
       "      <th></th>\n",
       "      <th>x</th>\n",
       "      <th>y</th>\n",
       "    </tr>\n",
       "  </thead>\n",
       "  <tbody>\n",
       "    <tr>\n",
       "      <th>count</th>\n",
       "      <td>300.000000</td>\n",
       "      <td>300.000000</td>\n",
       "    </tr>\n",
       "    <tr>\n",
       "      <th>mean</th>\n",
       "      <td>50.936667</td>\n",
       "      <td>51.205051</td>\n",
       "    </tr>\n",
       "    <tr>\n",
       "      <th>std</th>\n",
       "      <td>28.504286</td>\n",
       "      <td>29.071481</td>\n",
       "    </tr>\n",
       "    <tr>\n",
       "      <th>min</th>\n",
       "      <td>0.000000</td>\n",
       "      <td>-3.467884</td>\n",
       "    </tr>\n",
       "    <tr>\n",
       "      <th>25%</th>\n",
       "      <td>27.000000</td>\n",
       "      <td>25.676502</td>\n",
       "    </tr>\n",
       "    <tr>\n",
       "      <th>50%</th>\n",
       "      <td>53.000000</td>\n",
       "      <td>52.170557</td>\n",
       "    </tr>\n",
       "    <tr>\n",
       "      <th>75%</th>\n",
       "      <td>73.000000</td>\n",
       "      <td>74.303007</td>\n",
       "    </tr>\n",
       "    <tr>\n",
       "      <th>max</th>\n",
       "      <td>100.000000</td>\n",
       "      <td>105.591837</td>\n",
       "    </tr>\n",
       "  </tbody>\n",
       "</table>\n",
       "</div>"
      ],
      "text/plain": [
       "                x           y\n",
       "count  300.000000  300.000000\n",
       "mean    50.936667   51.205051\n",
       "std     28.504286   29.071481\n",
       "min      0.000000   -3.467884\n",
       "25%     27.000000   25.676502\n",
       "50%     53.000000   52.170557\n",
       "75%     73.000000   74.303007\n",
       "max    100.000000  105.591837"
      ]
     },
     "execution_count": 10,
     "metadata": {},
     "output_type": "execute_result"
    }
   ],
   "source": [
    "df.describe()"
   ]
  },
  {
   "cell_type": "code",
   "execution_count": 11,
   "id": "967f0d36-d4eb-4087-8411-92f588a14e00",
   "metadata": {},
   "outputs": [
    {
     "data": {
      "text/plain": [
       "(300, 2)"
      ]
     },
     "execution_count": 11,
     "metadata": {},
     "output_type": "execute_result"
    }
   ],
   "source": [
    "df.shape"
   ]
  },
  {
   "cell_type": "code",
   "execution_count": 12,
   "id": "8a0bd553-5d45-4afa-a7e1-c69f4d2aa52c",
   "metadata": {},
   "outputs": [],
   "source": [
    "#Using a regression model, split your data into train and test data.\n",
    "X_axis= df['x'].values\n",
    "Y_axis=df['y'].values"
   ]
  },
  {
   "cell_type": "code",
   "execution_count": 13,
   "id": "303b5988-c317-4d2d-9f54-4289a66fbce1",
   "metadata": {},
   "outputs": [
    {
     "data": {
      "text/plain": [
       "array([ 77,  21,  22,  20,  36,  15,  62,  95,  20,   5,   4,  19,  96,\n",
       "        62,  36,  15,  65,  14,  87,  69,  89,  51,  89,  27,  97,  58,\n",
       "        79,  21,  93,  27,  99,  31,  33,  80,  28,  47,  53,  69,  28,\n",
       "        33,  91,  71,  50,  76,   4,  37,  70,  68,  40,  35,  94,  88,\n",
       "        52,  31,  59,   0,  39,  64,  69,  57,  13,  72,  76,  61,  82,\n",
       "        18,  41,  50,  55,  13,  46,  13,  79,  53,  15,  28,  81,  69,\n",
       "        52,  84,  68,  27,  56,  48,  40,  39,  82, 100,  59,  43,  67,\n",
       "        38,  63,  91,  60,  14,  21,  87,  73,  32,   2,  82,  19,  74,\n",
       "        42,  12,   1,  90,  89,   0,  41,  16,  94,  97,  66,  24,  17,\n",
       "        90,  13,   0,  64,  96,  98,  12,  41,  47,  78,  20,  89,  29,\n",
       "        64,  75,  12,  25,  28,  30,  65,  59,  64,  53,  71,  97,  73,\n",
       "         9,  12,  63,  99,  60,  35,   2,  60,  32,  94,  84,  63,  22,\n",
       "        81,  93,  33,   7,  42,  46,  54,  16,  49,  43,  95,  66,  21,\n",
       "        35,  80,  37,  54,  56,   1,  32,  58,  32,  46,  72,  17,  97,\n",
       "        93,  91,  37,   4,  54,  51,  27,  46,  92,  73,  77,  91,  61,\n",
       "        99,   4,  72,  19,  57,  78,  26,  74,  90,  66,  13,  40,  77,\n",
       "        67,  75,  23,  45,  59,  44,  23,  55,  55,  95,  12,   4,   7,\n",
       "       100,  48,  42,  96,  39, 100,  87,  14,  14,  37,   5,  88,  91,\n",
       "        65,  74,  56,  16,   5,  28,  92,  46,  54,  39,  44,  31,  68,\n",
       "        86,  90,  38,  21,  95,  56,  60,  65,  78,  89,   6,  67,  36,\n",
       "        16, 100,  45,  73,  57,  20,  76,  34,  55,  72,  55,   8,  56,\n",
       "        72,  58,   6,  96,  23,  58,  23,  19,  25,  64,  21,  59,  19,\n",
       "        16,  42,  43,  61,  92,  11,  41,   1,   8,  71,  46,  55,  62,\n",
       "        47])"
      ]
     },
     "execution_count": 13,
     "metadata": {},
     "output_type": "execute_result"
    }
   ],
   "source": [
    "X_axis"
   ]
  },
  {
   "cell_type": "code",
   "execution_count": 14,
   "id": "d96ca9e3-b891-48df-91e2-59e314d8a882",
   "metadata": {},
   "outputs": [
    {
     "data": {
      "text/plain": [
       "array([ 79.77515201,  23.17727887,  25.60926156,  17.85738813,\n",
       "        41.84986439,   9.80523488,  58.87465933,  97.61793701,\n",
       "        18.39512747,   8.74674765,   2.81141583,  17.09537241,\n",
       "        95.14907176,  61.38800663,  40.24701716,  14.82248589,\n",
       "        66.95806869,  16.63507984,  90.65513736,  77.22982636,\n",
       "        92.11906278,  46.91387709,  89.82634442,  21.71380347,\n",
       "        97.41206981,  57.01631363,  78.31056542,  19.1315097 ,\n",
       "        93.03483388,  26.59112396,  97.55155344,  31.43524822,\n",
       "        35.12724777,  78.61042432,  33.07112825,  51.69967172,\n",
       "        53.62235225,  69.46306072,  27.42497237,  36.34644189,\n",
       "        95.06140858,  68.16724757,  50.96155532,  78.04237454,\n",
       "         5.60766487,  36.11334779,  67.2352155 ,  65.01324035,\n",
       "        38.14753871,  34.31141446,  95.28503937,  87.84749912,\n",
       "        54.08170635,  31.93063515,  59.61247085,  -1.04011421,\n",
       "        47.49374765,  62.60089773,  70.9146434 ,  56.14834113,\n",
       "        14.05572877,  68.11367147,  75.59701346,  59.225745  ,\n",
       "        85.45504157,  17.76197116,  38.68888682,  50.96343637,\n",
       "        51.83503872,  17.0761107 ,  46.56141773,  10.34754461,\n",
       "        77.91032969,  50.17008622,  13.25690647,  31.32274932,\n",
       "        73.9308764 ,  74.45114379,  52.01932286,  83.68820499,\n",
       "        70.3698748 ,  23.44479161,  49.83051801,  49.88226593,\n",
       "        41.04525583,  33.37834391,  81.29750133, 105.5918375 ,\n",
       "        56.82457013,  48.67252645,  67.02150613,  38.43076389,\n",
       "        58.61466887,  89.12377509,  60.9105427 ,  13.83959878,\n",
       "        16.89085185,  84.06676818,  70.34969772,  33.38474138,\n",
       "        -1.63296825,  88.54475895,  17.44047622,  75.69298554,\n",
       "        41.97607107,  12.59244741,   0.27530726,  98.13258005,\n",
       "        87.45721555,  -2.34473854,  39.3294153 ,  16.68715211,\n",
       "        96.58888601,  97.70342201,  67.01715955,  25.63476257,\n",
       "        13.41310757,  95.15647284,   9.74416426,  -3.46788379,\n",
       "        62.82816355,  97.27405461,  95.58017185,   7.46850184,\n",
       "        45.44599591,  46.69013968,  74.4993599 ,  21.63500655,\n",
       "        91.59548851,  26.49487961,  67.38654703,  74.25362837,\n",
       "        12.07991648,  21.32273728,  29.31770045,  26.48713683,\n",
       "        68.94699774,  59.10598995,  64.37521087,  60.20758349,\n",
       "        70.34329706,  97.1082562 ,  75.7584178 ,  10.80462727,\n",
       "        12.11219941,  63.28312382,  98.03017721,  63.19354354,\n",
       "        34.8534823 ,  -2.81991397,  59.8313966 ,  29.38505024,\n",
       "        97.00148372,  85.18657275,  61.74063192,  18.84798163,\n",
       "        78.79008525,  95.12400481,  30.48881287,  10.41468095,\n",
       "        38.98317436,  46.11021062,  52.45103628,  21.16523945,\n",
       "        52.28620611,  44.18863945,  97.13832018,  67.22008001,\n",
       "        18.98322306,  24.3884599 ,  79.44769523,  40.03504862,\n",
       "        53.32005764,  54.55446979,  -2.7611826 ,  37.80182795,\n",
       "        57.48741435,  36.06292994,  49.83538167,  74.68953276,\n",
       "        14.86159401, 101.0697879 ,  99.43577876,  91.69240746,\n",
       "        34.12473248,   6.07939007,  59.07247174,  56.43046022,\n",
       "        30.49412933,  48.35172635,  89.73153611,  72.86282528,\n",
       "        80.97144285,  91.36566374,  60.07137496,  99.87382707,\n",
       "         8.65571417,  69.39858505,  19.38780134,  53.11628433,\n",
       "        78.39683006,  25.75612514,  75.07484683,  92.88772282,\n",
       "        69.45498498,  13.12109842,  48.09843134,  79.3142548 ,\n",
       "        68.48820749,  73.2300846 ,  24.68362712,  41.90368917,\n",
       "        62.22635684,  45.96396877,  23.52647153,  51.80035866,\n",
       "        51.10774273,  95.79747345,   9.24113898,   7.64652976,\n",
       "         9.28169975, 103.5266162 ,  47.41006725,  42.03835773,\n",
       "        96.11982476,  38.05766408, 105.4503788 ,  88.80306911,\n",
       "        15.49301141,  12.42624606,  40.00709598,   5.6340309 ,\n",
       "        87.36938931,  89.73951993,  66.61499643,  72.9138853 ,\n",
       "        57.19103506,  11.21710477,   0.67607675,  28.15668543,\n",
       "        95.3958003 ,  52.05490703,  59.70864577,  36.79224762,\n",
       "        37.08457698,  24.18437976,  67.28725332,  82.870594  ,\n",
       "        89.899991  ,  36.94173178,  19.87562242,  90.71481654,\n",
       "        61.09367762,  60.11134958,  64.83296316,  81.40381769,\n",
       "        92.40217686,   2.57662538,  63.80768172,  38.67780759,\n",
       "        16.82839701,  99.78687252,  44.68913433,  71.00377824,\n",
       "        51.57326718,  19.87846479,  79.50341495,  34.58876491,\n",
       "        55.7383467 ,  68.19721905,  55.81628509,   9.3914168 ,\n",
       "        56.01448111,  77.9969477 ,  55.37049953,  11.89457829,\n",
       "        94.79081712,  25.69041546,  53.52042319,  18.31396758,\n",
       "        21.42637785,  30.41303282,  67.68142149,  17.0854783 ,\n",
       "        60.91792707,  14.99514319,  16.74923937,  41.46923883,\n",
       "        42.84526108,  59.12912974,  91.30863673,   8.67333636,\n",
       "        39.31485292,   5.3136862 ,   5.40522052,  68.5458879 ,\n",
       "        47.33487629,  54.09063686,  63.29717058,  52.45946688])"
      ]
     },
     "execution_count": 14,
     "metadata": {},
     "output_type": "execute_result"
    }
   ],
   "source": [
    "Y_axis"
   ]
  },
  {
   "cell_type": "code",
   "execution_count": 15,
   "id": "056c85a9-51cc-46fe-bdb8-9f24353653bd",
   "metadata": {},
   "outputs": [
    {
     "data": {
      "text/plain": [
       "array([[ 77],\n",
       "       [ 21],\n",
       "       [ 22],\n",
       "       [ 20],\n",
       "       [ 36],\n",
       "       [ 15],\n",
       "       [ 62],\n",
       "       [ 95],\n",
       "       [ 20],\n",
       "       [  5],\n",
       "       [  4],\n",
       "       [ 19],\n",
       "       [ 96],\n",
       "       [ 62],\n",
       "       [ 36],\n",
       "       [ 15],\n",
       "       [ 65],\n",
       "       [ 14],\n",
       "       [ 87],\n",
       "       [ 69],\n",
       "       [ 89],\n",
       "       [ 51],\n",
       "       [ 89],\n",
       "       [ 27],\n",
       "       [ 97],\n",
       "       [ 58],\n",
       "       [ 79],\n",
       "       [ 21],\n",
       "       [ 93],\n",
       "       [ 27],\n",
       "       [ 99],\n",
       "       [ 31],\n",
       "       [ 33],\n",
       "       [ 80],\n",
       "       [ 28],\n",
       "       [ 47],\n",
       "       [ 53],\n",
       "       [ 69],\n",
       "       [ 28],\n",
       "       [ 33],\n",
       "       [ 91],\n",
       "       [ 71],\n",
       "       [ 50],\n",
       "       [ 76],\n",
       "       [  4],\n",
       "       [ 37],\n",
       "       [ 70],\n",
       "       [ 68],\n",
       "       [ 40],\n",
       "       [ 35],\n",
       "       [ 94],\n",
       "       [ 88],\n",
       "       [ 52],\n",
       "       [ 31],\n",
       "       [ 59],\n",
       "       [  0],\n",
       "       [ 39],\n",
       "       [ 64],\n",
       "       [ 69],\n",
       "       [ 57],\n",
       "       [ 13],\n",
       "       [ 72],\n",
       "       [ 76],\n",
       "       [ 61],\n",
       "       [ 82],\n",
       "       [ 18],\n",
       "       [ 41],\n",
       "       [ 50],\n",
       "       [ 55],\n",
       "       [ 13],\n",
       "       [ 46],\n",
       "       [ 13],\n",
       "       [ 79],\n",
       "       [ 53],\n",
       "       [ 15],\n",
       "       [ 28],\n",
       "       [ 81],\n",
       "       [ 69],\n",
       "       [ 52],\n",
       "       [ 84],\n",
       "       [ 68],\n",
       "       [ 27],\n",
       "       [ 56],\n",
       "       [ 48],\n",
       "       [ 40],\n",
       "       [ 39],\n",
       "       [ 82],\n",
       "       [100],\n",
       "       [ 59],\n",
       "       [ 43],\n",
       "       [ 67],\n",
       "       [ 38],\n",
       "       [ 63],\n",
       "       [ 91],\n",
       "       [ 60],\n",
       "       [ 14],\n",
       "       [ 21],\n",
       "       [ 87],\n",
       "       [ 73],\n",
       "       [ 32],\n",
       "       [  2],\n",
       "       [ 82],\n",
       "       [ 19],\n",
       "       [ 74],\n",
       "       [ 42],\n",
       "       [ 12],\n",
       "       [  1],\n",
       "       [ 90],\n",
       "       [ 89],\n",
       "       [  0],\n",
       "       [ 41],\n",
       "       [ 16],\n",
       "       [ 94],\n",
       "       [ 97],\n",
       "       [ 66],\n",
       "       [ 24],\n",
       "       [ 17],\n",
       "       [ 90],\n",
       "       [ 13],\n",
       "       [  0],\n",
       "       [ 64],\n",
       "       [ 96],\n",
       "       [ 98],\n",
       "       [ 12],\n",
       "       [ 41],\n",
       "       [ 47],\n",
       "       [ 78],\n",
       "       [ 20],\n",
       "       [ 89],\n",
       "       [ 29],\n",
       "       [ 64],\n",
       "       [ 75],\n",
       "       [ 12],\n",
       "       [ 25],\n",
       "       [ 28],\n",
       "       [ 30],\n",
       "       [ 65],\n",
       "       [ 59],\n",
       "       [ 64],\n",
       "       [ 53],\n",
       "       [ 71],\n",
       "       [ 97],\n",
       "       [ 73],\n",
       "       [  9],\n",
       "       [ 12],\n",
       "       [ 63],\n",
       "       [ 99],\n",
       "       [ 60],\n",
       "       [ 35],\n",
       "       [  2],\n",
       "       [ 60],\n",
       "       [ 32],\n",
       "       [ 94],\n",
       "       [ 84],\n",
       "       [ 63],\n",
       "       [ 22],\n",
       "       [ 81],\n",
       "       [ 93],\n",
       "       [ 33],\n",
       "       [  7],\n",
       "       [ 42],\n",
       "       [ 46],\n",
       "       [ 54],\n",
       "       [ 16],\n",
       "       [ 49],\n",
       "       [ 43],\n",
       "       [ 95],\n",
       "       [ 66],\n",
       "       [ 21],\n",
       "       [ 35],\n",
       "       [ 80],\n",
       "       [ 37],\n",
       "       [ 54],\n",
       "       [ 56],\n",
       "       [  1],\n",
       "       [ 32],\n",
       "       [ 58],\n",
       "       [ 32],\n",
       "       [ 46],\n",
       "       [ 72],\n",
       "       [ 17],\n",
       "       [ 97],\n",
       "       [ 93],\n",
       "       [ 91],\n",
       "       [ 37],\n",
       "       [  4],\n",
       "       [ 54],\n",
       "       [ 51],\n",
       "       [ 27],\n",
       "       [ 46],\n",
       "       [ 92],\n",
       "       [ 73],\n",
       "       [ 77],\n",
       "       [ 91],\n",
       "       [ 61],\n",
       "       [ 99],\n",
       "       [  4],\n",
       "       [ 72],\n",
       "       [ 19],\n",
       "       [ 57],\n",
       "       [ 78],\n",
       "       [ 26],\n",
       "       [ 74],\n",
       "       [ 90],\n",
       "       [ 66],\n",
       "       [ 13],\n",
       "       [ 40],\n",
       "       [ 77],\n",
       "       [ 67],\n",
       "       [ 75],\n",
       "       [ 23],\n",
       "       [ 45],\n",
       "       [ 59],\n",
       "       [ 44],\n",
       "       [ 23],\n",
       "       [ 55],\n",
       "       [ 55],\n",
       "       [ 95],\n",
       "       [ 12],\n",
       "       [  4],\n",
       "       [  7],\n",
       "       [100],\n",
       "       [ 48],\n",
       "       [ 42],\n",
       "       [ 96],\n",
       "       [ 39],\n",
       "       [100],\n",
       "       [ 87],\n",
       "       [ 14],\n",
       "       [ 14],\n",
       "       [ 37],\n",
       "       [  5],\n",
       "       [ 88],\n",
       "       [ 91],\n",
       "       [ 65],\n",
       "       [ 74],\n",
       "       [ 56],\n",
       "       [ 16],\n",
       "       [  5],\n",
       "       [ 28],\n",
       "       [ 92],\n",
       "       [ 46],\n",
       "       [ 54],\n",
       "       [ 39],\n",
       "       [ 44],\n",
       "       [ 31],\n",
       "       [ 68],\n",
       "       [ 86],\n",
       "       [ 90],\n",
       "       [ 38],\n",
       "       [ 21],\n",
       "       [ 95],\n",
       "       [ 56],\n",
       "       [ 60],\n",
       "       [ 65],\n",
       "       [ 78],\n",
       "       [ 89],\n",
       "       [  6],\n",
       "       [ 67],\n",
       "       [ 36],\n",
       "       [ 16],\n",
       "       [100],\n",
       "       [ 45],\n",
       "       [ 73],\n",
       "       [ 57],\n",
       "       [ 20],\n",
       "       [ 76],\n",
       "       [ 34],\n",
       "       [ 55],\n",
       "       [ 72],\n",
       "       [ 55],\n",
       "       [  8],\n",
       "       [ 56],\n",
       "       [ 72],\n",
       "       [ 58],\n",
       "       [  6],\n",
       "       [ 96],\n",
       "       [ 23],\n",
       "       [ 58],\n",
       "       [ 23],\n",
       "       [ 19],\n",
       "       [ 25],\n",
       "       [ 64],\n",
       "       [ 21],\n",
       "       [ 59],\n",
       "       [ 19],\n",
       "       [ 16],\n",
       "       [ 42],\n",
       "       [ 43],\n",
       "       [ 61],\n",
       "       [ 92],\n",
       "       [ 11],\n",
       "       [ 41],\n",
       "       [  1],\n",
       "       [  8],\n",
       "       [ 71],\n",
       "       [ 46],\n",
       "       [ 55],\n",
       "       [ 62],\n",
       "       [ 47]])"
      ]
     },
     "execution_count": 15,
     "metadata": {},
     "output_type": "execute_result"
    }
   ],
   "source": [
    "X = X_axis.reshape(-1,1)\n",
    "X\n"
   ]
  },
  {
   "cell_type": "code",
   "execution_count": 16,
   "id": "07684781-d43d-40b3-a7b0-bf574ace7cc5",
   "metadata": {},
   "outputs": [],
   "source": [
    "X_train, X_test, Y_train, Y_test = train_test_split(X ,Y_axis , test_size = 0.20, random_state = 10 )\n"
   ]
  },
  {
   "cell_type": "code",
   "execution_count": 17,
   "id": "7c66625d-2e61-457b-ba68-e3985be6c895",
   "metadata": {},
   "outputs": [
    {
     "data": {
      "text/plain": [
       "array([[ 47],\n",
       "       [ 75],\n",
       "       [ 64],\n",
       "       [ 69],\n",
       "       [ 37],\n",
       "       [ 19],\n",
       "       [ 63],\n",
       "       [ 72],\n",
       "       [ 15],\n",
       "       [ 14],\n",
       "       [ 40],\n",
       "       [ 96],\n",
       "       [ 66],\n",
       "       [ 59],\n",
       "       [ 19],\n",
       "       [ 56],\n",
       "       [ 92],\n",
       "       [ 63],\n",
       "       [ 58],\n",
       "       [ 13],\n",
       "       [ 56],\n",
       "       [ 13],\n",
       "       [ 51],\n",
       "       [ 46],\n",
       "       [ 52],\n",
       "       [ 35],\n",
       "       [ 35],\n",
       "       [ 42],\n",
       "       [  4],\n",
       "       [ 69],\n",
       "       [ 74],\n",
       "       [ 28],\n",
       "       [ 45],\n",
       "       [ 92],\n",
       "       [100],\n",
       "       [ 89],\n",
       "       [ 28],\n",
       "       [ 16],\n",
       "       [ 12],\n",
       "       [ 80],\n",
       "       [ 67],\n",
       "       [ 21],\n",
       "       [  6],\n",
       "       [ 77],\n",
       "       [ 55],\n",
       "       [  6],\n",
       "       [ 77],\n",
       "       [ 78],\n",
       "       [ 43],\n",
       "       [ 54],\n",
       "       [ 62],\n",
       "       [  0],\n",
       "       [ 54],\n",
       "       [ 35],\n",
       "       [ 92],\n",
       "       [ 54],\n",
       "       [ 69],\n",
       "       [ 48],\n",
       "       [ 21],\n",
       "       [ 20],\n",
       "       [ 32],\n",
       "       [  1],\n",
       "       [ 61],\n",
       "       [ 21],\n",
       "       [ 60],\n",
       "       [ 67],\n",
       "       [ 48],\n",
       "       [ 45],\n",
       "       [  8],\n",
       "       [ 73],\n",
       "       [ 82],\n",
       "       [ 94],\n",
       "       [ 70],\n",
       "       [ 39],\n",
       "       [ 23],\n",
       "       [ 56],\n",
       "       [ 37],\n",
       "       [ 22],\n",
       "       [ 59],\n",
       "       [ 93],\n",
       "       [ 47],\n",
       "       [ 17],\n",
       "       [ 64],\n",
       "       [ 60],\n",
       "       [ 44],\n",
       "       [ 33],\n",
       "       [ 95],\n",
       "       [  5],\n",
       "       [ 74],\n",
       "       [ 38],\n",
       "       [ 33],\n",
       "       [ 93],\n",
       "       [ 55],\n",
       "       [ 95],\n",
       "       [ 58],\n",
       "       [ 12],\n",
       "       [ 46],\n",
       "       [ 77],\n",
       "       [  0],\n",
       "       [ 76],\n",
       "       [ 79],\n",
       "       [ 65],\n",
       "       [ 11],\n",
       "       [ 61],\n",
       "       [ 51],\n",
       "       [ 41],\n",
       "       [ 17],\n",
       "       [ 46],\n",
       "       [  2],\n",
       "       [ 56],\n",
       "       [  4],\n",
       "       [ 24],\n",
       "       [ 90],\n",
       "       [ 40],\n",
       "       [ 90],\n",
       "       [ 72],\n",
       "       [ 14],\n",
       "       [ 75],\n",
       "       [ 22],\n",
       "       [ 32],\n",
       "       [ 14],\n",
       "       [ 50],\n",
       "       [ 41],\n",
       "       [ 78],\n",
       "       [ 89],\n",
       "       [ 95],\n",
       "       [ 41],\n",
       "       [ 82],\n",
       "       [  7],\n",
       "       [ 65],\n",
       "       [ 12],\n",
       "       [ 36],\n",
       "       [ 99],\n",
       "       [ 88],\n",
       "       [ 67],\n",
       "       [ 71],\n",
       "       [ 27],\n",
       "       [ 42],\n",
       "       [ 66],\n",
       "       [ 58],\n",
       "       [ 41],\n",
       "       [ 84],\n",
       "       [ 31],\n",
       "       [ 46],\n",
       "       [ 14],\n",
       "       [ 87],\n",
       "       [ 88],\n",
       "       [ 36],\n",
       "       [ 91],\n",
       "       [ 56],\n",
       "       [ 40],\n",
       "       [ 61],\n",
       "       [ 27],\n",
       "       [ 20],\n",
       "       [ 27],\n",
       "       [ 99],\n",
       "       [ 89],\n",
       "       [ 43],\n",
       "       [ 26],\n",
       "       [ 95],\n",
       "       [ 21],\n",
       "       [ 37],\n",
       "       [ 86],\n",
       "       [ 87],\n",
       "       [ 64],\n",
       "       [ 50],\n",
       "       [ 68],\n",
       "       [ 84],\n",
       "       [  4],\n",
       "       [ 19],\n",
       "       [ 96],\n",
       "       [  7],\n",
       "       [ 96],\n",
       "       [ 94],\n",
       "       [ 19],\n",
       "       [ 60],\n",
       "       [ 65],\n",
       "       [ 39],\n",
       "       [ 28],\n",
       "       [  9],\n",
       "       [ 34],\n",
       "       [ 13],\n",
       "       [ 73],\n",
       "       [ 42],\n",
       "       [ 28],\n",
       "       [ 93],\n",
       "       [ 89],\n",
       "       [ 94],\n",
       "       [ 38],\n",
       "       [ 59],\n",
       "       [ 16],\n",
       "       [ 36],\n",
       "       [ 25],\n",
       "       [  4],\n",
       "       [ 57],\n",
       "       [ 21],\n",
       "       [ 21],\n",
       "       [ 90],\n",
       "       [ 30],\n",
       "       [ 63],\n",
       "       [ 13],\n",
       "       [ 13],\n",
       "       [  8],\n",
       "       [ 55],\n",
       "       [ 55],\n",
       "       [ 15],\n",
       "       [ 71],\n",
       "       [ 90],\n",
       "       [ 60],\n",
       "       [ 23],\n",
       "       [ 91],\n",
       "       [ 87],\n",
       "       [ 31],\n",
       "       [ 71],\n",
       "       [ 43],\n",
       "       [ 33],\n",
       "       [ 97],\n",
       "       [ 39],\n",
       "       [ 62],\n",
       "       [ 69],\n",
       "       [ 42],\n",
       "       [ 72],\n",
       "       [ 32],\n",
       "       [ 78],\n",
       "       [ 80],\n",
       "       [ 76],\n",
       "       [ 98],\n",
       "       [ 59],\n",
       "       [ 28],\n",
       "       [ 65],\n",
       "       [ 91],\n",
       "       [ 89],\n",
       "       [ 53],\n",
       "       [ 20],\n",
       "       [100],\n",
       "       [ 81],\n",
       "       [ 12],\n",
       "       [ 15],\n",
       "       [ 47],\n",
       "       [ 20]])"
      ]
     },
     "execution_count": 17,
     "metadata": {},
     "output_type": "execute_result"
    }
   ],
   "source": [
    "X_train"
   ]
  },
  {
   "cell_type": "code",
   "execution_count": 18,
   "id": "a5c9ec01-d8e8-40a0-aa2b-db9f00ea25b3",
   "metadata": {},
   "outputs": [
    {
     "data": {
      "text/plain": [
       "(60, 1)"
      ]
     },
     "execution_count": 18,
     "metadata": {},
     "output_type": "execute_result"
    }
   ],
   "source": [
    "X_test.shape"
   ]
  },
  {
   "cell_type": "code",
   "execution_count": 19,
   "id": "725c0ac1-dfd9-4fc0-a11e-6c52cb8b959e",
   "metadata": {},
   "outputs": [
    {
     "data": {
      "text/plain": [
       "array([[ 97],\n",
       "       [ 18],\n",
       "       [ 97],\n",
       "       [100],\n",
       "       [ 27],\n",
       "       [ 97],\n",
       "       [ 57],\n",
       "       [100],\n",
       "       [  1],\n",
       "       [ 23],\n",
       "       [ 44],\n",
       "       [ 76],\n",
       "       [ 91],\n",
       "       [ 59],\n",
       "       [  5],\n",
       "       [ 79],\n",
       "       [ 31],\n",
       "       [ 23],\n",
       "       [ 46],\n",
       "       [ 25],\n",
       "       [ 52],\n",
       "       [ 55],\n",
       "       [ 64],\n",
       "       [ 82],\n",
       "       [ 49],\n",
       "       [ 46],\n",
       "       [ 64],\n",
       "       [ 74],\n",
       "       [ 37],\n",
       "       [ 12],\n",
       "       [ 68],\n",
       "       [ 32],\n",
       "       [ 58],\n",
       "       [ 91],\n",
       "       [ 72],\n",
       "       [ 62],\n",
       "       [ 96],\n",
       "       [ 73],\n",
       "       [  5],\n",
       "       [ 81],\n",
       "       [ 29],\n",
       "       [ 66],\n",
       "       [ 55],\n",
       "       [  2],\n",
       "       [ 73],\n",
       "       [ 57],\n",
       "       [ 53],\n",
       "       [  1],\n",
       "       [ 53],\n",
       "       [  4],\n",
       "       [ 72],\n",
       "       [ 16],\n",
       "       [ 16],\n",
       "       [  0],\n",
       "       [ 19],\n",
       "       [ 99],\n",
       "       [ 16],\n",
       "       [ 68],\n",
       "       [ 54],\n",
       "       [ 39]])"
      ]
     },
     "execution_count": 19,
     "metadata": {},
     "output_type": "execute_result"
    }
   ],
   "source": [
    "X_test"
   ]
  },
  {
   "cell_type": "code",
   "execution_count": 20,
   "id": "3e8ed6ff-b09c-403d-9cb2-7daef96718c9",
   "metadata": {},
   "outputs": [
    {
     "data": {
      "text/plain": [
       "(240, 1)"
      ]
     },
     "execution_count": 20,
     "metadata": {},
     "output_type": "execute_result"
    }
   ],
   "source": [
    "X_train.shape\n",
    "\n"
   ]
  },
  {
   "cell_type": "code",
   "execution_count": 21,
   "id": "5ba18ebb-87e8-42e6-a4ac-6fb46799e483",
   "metadata": {},
   "outputs": [
    {
     "data": {
      "image/png": "[encoded data removed]",
      "text/plain": [
       "<Figure size 432x288 with 1 Axes>"
      ]
     },
     "metadata": {
      "needs_background": "light"
     },
     "output_type": "display_data"
    }
   ],
   "source": [
    "#Show your regression model’s score.\n",
    "plt.scatter(X_train, Y_train,color='blue' )\n",
    "plt.ylabel('Y-axis')\n",
    "plt.xlabel('x-axis')\n",
    "plt.title('Linear Regression')\n",
    "plt.show()"
   ]
  },
  {
   "cell_type": "code",
   "execution_count": 22,
   "id": "0a5048cd-eb56-4940-87e9-f744e8e96dc3",
   "metadata": {},
   "outputs": [
    {
     "data": {
      "text/plain": [
       "LinearRegression()"
      ]
     },
     "execution_count": 22,
     "metadata": {},
     "output_type": "execute_result"
    }
   ],
   "source": [
    "#Draw at least three conclusions from your regression model.\n",
    "my_model=LinearRegression()\n",
    "my_model.fit(X_train, Y_train)\n"
   ]
  },
  {
   "cell_type": "code",
   "execution_count": 23,
   "id": "631d81bd-064b-4207-b042-92f42ad2b237",
   "metadata": {},
   "outputs": [
    {
     "data": {
      "text/plain": [
       "array([4.59745262])"
      ]
     },
     "execution_count": 23,
     "metadata": {},
     "output_type": "execute_result"
    }
   ],
   "source": [
    "y_predict = my_model.predict([[5]])\n",
    "y_predict"
   ]
  },
  {
   "cell_type": "code",
   "execution_count": 24,
   "id": "60bc0028-ef11-4940-bad2-7ff17389f893",
   "metadata": {},
   "outputs": [
    {
     "data": {
      "text/plain": [
       "98.90458002837929"
      ]
     },
     "execution_count": 24,
     "metadata": {},
     "output_type": "execute_result"
    }
   ],
   "source": [
    "accuracy = my_model.score(X_test , Y_test)\n",
    "accuracy*100"
   ]
  },
  {
   "cell_type": "code",
   "execution_count": 25,
   "id": "386d8aa0-9a68-438b-8e12-d289e41011eb",
   "metadata": {},
   "outputs": [
    {
     "data": {
      "text/plain": [
       "array([ 97.90151794,  17.78172272,  97.90151794, 100.94404181,\n",
       "        26.90929433,  97.90151794,  57.33453302, 100.94404181,\n",
       "         0.54075413,  22.85259583,  44.15026292,  76.60385085,\n",
       "        91.8164702 ,  59.36288226,   4.59745262,  79.64637472,\n",
       "        30.96599282,  22.85259583,  46.17861216,  24.88094508,\n",
       "        52.2636599 ,  55.30618377,  64.43375538,  82.68889859,\n",
       "        49.22113603,  46.17861216,  64.43375538,  74.57550161,\n",
       "        37.05104056,  11.69667498,  68.49045387,  31.98016744,\n",
       "        58.34870764,  91.8164702 ,  72.54715236,  62.40540613,\n",
       "        96.88734331,  73.56132698,   4.59745262,  81.67472397,\n",
       "        28.93764357,  66.46210462,  55.30618377,   1.55492875,\n",
       "        73.56132698,  57.33453302,  53.27783452,   0.54075413,\n",
       "        53.27783452,   3.583278  ,  72.54715236,  15.75337347,\n",
       "        15.75337347,  -0.47342049,  18.79589734,  99.92986718,\n",
       "        15.75337347,  68.49045387,  54.29200915,  39.0793898 ])"
      ]
     },
     "execution_count": 25,
     "metadata": {},
     "output_type": "execute_result"
    }
   ],
   "source": [
    "y_predict = my_model.predict(X_test)\n",
    "y_predict"
   ]
  },
  {
   "cell_type": "code",
   "execution_count": 26,
   "id": "44285f60-d0de-4f9e-9d85-df1dc2d887dd",
   "metadata": {},
   "outputs": [
    {
     "data": {
      "image/png": "[encoded data removed]",
      "text/plain": [
       "<Figure size 432x288 with 1 Axes>"
      ]
     },
     "metadata": {
      "needs_background": "light"
     },
     "output_type": "display_data"
    }
   ],
   "source": [
    "plt.scatter(X_train, Y_train , color= 'blue')\n",
    "plt.scatter(X_test, Y_test, color = 'gray')\n",
    "\n",
    "plt.plot(X_test, y_predict , color = 'black')\n",
    "\n",
    "plt.ylabel('Y-axis')\n",
    "plt.xlabel('x-axis')\n",
    "plt.title('Linear Regression')\n",
    "plt.show()"
   ]
  },
  {
   "cell_type": "code",
   "execution_count": 27,
   "id": "78ed5cb5-eb81-4112-8658-5e9d3de171c8",
   "metadata": {},
   "outputs": [
    {
     "data": {
      "image/png": "[encoded data removed]",
      "text/plain": [
       "<Figure size 360x360 with 6 Axes>"
      ]
     },
     "metadata": {
      "needs_background": "light"
     },
     "output_type": "display_data"
    }
   ],
   "source": [
    "sns.pairplot(df)\n",
    "sns.set(style=\"whitegrid\")\n",
    "\n"
   ]
  },
  {
   "cell_type": "code",
   "execution_count": 28,
   "id": "b5bb4a2f-b61c-4905-9208-8c4a0e8967a1",
   "metadata": {},
   "outputs": [
    {
     "name": "stderr",
     "output_type": "stream",
     "text": [
      "/mnt/c/Users/hp/Linear-Regressions/.venv/lib/python3.9/site-packages/seaborn/distributions.py:2557: FutureWarning: `distplot` is a deprecated function and will be removed in a future version. Please adapt your code to use either `displot` (a figure-level function with similar flexibility) or `histplot` (an axes-level function for histograms).\n",
      "  warnings.warn(msg, FutureWarning)\n"
     ]
    },
    {
     "data": {
      "text/plain": [
       "<AxesSubplot:xlabel='x', ylabel='Density'>"
      ]
     },
     "execution_count": 28,
     "metadata": {},
     "output_type": "execute_result"
    },
    {
     "data": {
      "image/png": "[encoded data removed]",
      "text/plain": [
       "<Figure size 432x288 with 1 Axes>"
      ]
     },
     "metadata": {},
     "output_type": "display_data"
    }
   ],
   "source": [
    "sns.distplot(df['x'])\n"
   ]
  },
  {
   "cell_type": "code",
   "execution_count": 29,
   "id": "ba0c8e65-0b08-4c24-a298-5317001030c7",
   "metadata": {},
   "outputs": [
    {
     "name": "stderr",
     "output_type": "stream",
     "text": [
      "/mnt/c/Users/hp/Linear-Regressions/.venv/lib/python3.9/site-packages/seaborn/distributions.py:2557: FutureWarning: `distplot` is a deprecated function and will be removed in a future version. Please adapt your code to use either `displot` (a figure-level function with similar flexibility) or `histplot` (an axes-level function for histograms).\n",
      "  warnings.warn(msg, FutureWarning)\n"
     ]
    },
    {
     "data": {
      "text/plain": [
       "<AxesSubplot:xlabel='y', ylabel='Density'>"
      ]
     },
     "execution_count": 29,
     "metadata": {},
     "output_type": "execute_result"
    },
    {
     "data": {
      "image/png": "[encoded data removed]",
      "text/plain": [
       "<Figure size 432x288 with 1 Axes>"
      ]
     },
     "metadata": {},
     "output_type": "display_data"
    }
   ],
   "source": [
    "sns.distplot(df['y'])\n"
   ]
  },
  {
   "cell_type": "code",
   "execution_count": null,
   "id": "e5d641dd-36be-483a-91c1-157aad6dfd15",
   "metadata": {},
   "outputs": [],
   "source": []
  }
 ],
 "metadata": {
  "kernelspec": {
   "display_name": "Python 3",
   "language": "python",
   "name": "python3"
  },
  "language_info": {
   "codemirror_mode": {
    "name": "ipython",
    "version": 3
   },
   "file_extension": ".py",
   "mimetype": "text/x-python",
   "name": "python",
   "nbconvert_exporter": "python",
   "pygments_lexer": "ipython3",
   "version": "3.9.4"
  }
 },
 "nbformat": 4,
 "nbformat_minor": 5
}
